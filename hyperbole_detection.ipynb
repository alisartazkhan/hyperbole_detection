{
  "cells": [
    {
      "cell_type": "code",
      "execution_count": 4,
      "id": "b0b2ec97",
      "metadata": {
        "id": "b0b2ec97"
      },
      "outputs": [],
      "source": [
        "import torch\n",
        "import pandas as pd\n",
        "from transformers import BertTokenizer, BertForSequenceClassification, AdamW\n",
        "from sklearn.model_selection import train_test_split\n",
        "from torch.utils.data import DataLoader, TensorDataset\n",
        "from tqdm import tqdm\n",
        "import torch.nn as nn\n"
      ]
    },
    {
      "cell_type": "code",
      "execution_count": 5,
      "id": "31ba2593",
      "metadata": {
        "scrolled": true,
        "colab": {
          "base_uri": "https://localhost:8080/"
        },
        "id": "31ba2593",
        "outputId": "bf9fbf00-25b5-4066-cf86-ac2f2d08f673"
      },
      "outputs": [
        {
          "output_type": "stream",
          "name": "stderr",
          "text": [
            "Some weights of BertForHyperboleClassification were not initialized from the model checkpoint at bert-base-uncased and are newly initialized: ['classifier.bias', 'classifier.weight']\n",
            "You should probably TRAIN this model on a down-stream task to be able to use it for predictions and inference.\n"
          ]
        }
      ],
      "source": [
        "# Load pre-trained BERT model and tokenizer\n",
        "class BertForHyperboleClassification(BertForSequenceClassification):\n",
        "    def __init__(self, config):\n",
        "        super().__init__(config)\n",
        "        self.classifier = nn.Linear(config.hidden_size, 2)\n",
        "\n",
        "# Load pre-trained BERT model and tokenizer\n",
        "model_name = 'bert-base-uncased'\n",
        "tokenizer = BertTokenizer.from_pretrained(model_name)\n",
        "model = BertForHyperboleClassification.from_pretrained(model_name)\n",
        "\n"
      ]
    },
    {
      "cell_type": "code",
      "execution_count": 7,
      "id": "d2e7bbdb",
      "metadata": {
        "scrolled": false,
        "colab": {
          "base_uri": "https://localhost:8080/"
        },
        "id": "d2e7bbdb",
        "outputId": "fac6db25-ba9d-4514-e0c9-5914a7d30008"
      },
      "outputs": [
        {
          "output_type": "stream",
          "name": "stdout",
          "text": [
            "1509 1509\n",
            "1509 1509\n"
          ]
        }
      ],
      "source": [
        "# Load the data\n",
        "hypo_data = pd.read_csv('/content/HYPO.tsv', sep='\\t', header=None, names=['HYPO', 'PARAPHRASES', 'MINIMAL UNITS CORPUS'])\n",
        "# hypo_data['HYPO'].dropna(inplace=False)\n",
        "# hypo_data['PARAPHRASES'].dropna(inplace=False)\n",
        "# hypo_data['MINIMAL UNITS CORPUS'].dropna(inplace=False)\n",
        "hypo_data.dropna(inplace=True)\n",
        "\n",
        "train, test = train_test_split(hypo_data, test_size=0.2, random_state=42)\n",
        "train, dev = train_test_split(train, test_size=0.1, random_state=42)\n",
        "\n",
        "train_texts = train['HYPO'].tolist() + train['PARAPHRASES'].tolist() + train['MINIMAL UNITS CORPUS'].tolist()\n",
        "train_labels = [1] * len(train['HYPO']) + [0] * (len(train['PARAPHRASES']) + len(train['MINIMAL UNITS CORPUS']))\n",
        "\n",
        "dev_texts = dev['HYPO'].tolist() + dev['PARAPHRASES'].tolist() + dev['MINIMAL UNITS CORPUS'].tolist()\n",
        "dev_labels = [1] * len(dev['HYPO']) + [0] * (len(dev['PARAPHRASES']) + len(dev['MINIMAL UNITS CORPUS']))\n",
        "\n",
        "test_texts = test['HYPO'].tolist() + test['PARAPHRASES'].tolist() + test['MINIMAL UNITS CORPUS'].tolist()\n",
        "test_labels = [1] * len(test['HYPO']) + [0] * (len(test['PARAPHRASES']) + len(test['MINIMAL UNITS CORPUS']))\n",
        "\n",
        "print(len(train_texts), len(train_labels))\n",
        "\n",
        "# removing Nan values\n",
        "# train_texts = [text for text in train_texts if isinstance(text, str)]\n",
        "# dev_texts = [text for text in dev_texts if isinstance(text, str)]\n",
        "# test_texts = [text for text in test_texts if isinstance(text, str)]\n",
        "\n",
        "print(len(train_texts), len(train_labels))\n",
        "\n",
        "# Tokenize and encode data\n",
        "train_encodings = tokenizer(train_texts, truncation=True, padding=True)\n",
        "dev_encodings = tokenizer(dev_texts, truncation=True, padding=True)\n",
        "test_encodings = tokenizer(test_texts, truncation=True, padding=True)\n",
        "\n"
      ]
    },
    {
      "cell_type": "code",
      "execution_count": 8,
      "id": "7eb9fe21",
      "metadata": {
        "scrolled": false,
        "colab": {
          "base_uri": "https://localhost:8080/"
        },
        "id": "7eb9fe21",
        "outputId": "8e299977-0b48-4b98-b710-ada51102877a"
      },
      "outputs": [
        {
          "output_type": "stream",
          "name": "stdout",
          "text": [
            "<torch.utils.data.dataset.TensorDataset object at 0x7c3e41d7dae0>\n"
          ]
        }
      ],
      "source": [
        "train_dataset = torch.utils.data.TensorDataset(torch.tensor(train_encodings['input_ids']),\n",
        "                                               torch.tensor(train_encodings['attention_mask']),\n",
        "                                               torch.tensor(train_labels))\n",
        "\n",
        "dev_dataset = torch.utils.data.TensorDataset(torch.tensor(dev_encodings['input_ids']),\n",
        "                                             torch.tensor(dev_encodings['attention_mask']),\n",
        "                                             torch.tensor(dev_labels))\n",
        "\n",
        "test_dataset = torch.utils.data.TensorDataset(torch.tensor(test_encodings['input_ids']),\n",
        "                                              torch.tensor(test_encodings['attention_mask']),\n",
        "                                              torch.tensor(test_labels))\n",
        "\n",
        "print(train_dataset)"
      ]
    },
    {
      "cell_type": "code",
      "execution_count": 9,
      "id": "a2af4273",
      "metadata": {
        "colab": {
          "base_uri": "https://localhost:8080/"
        },
        "id": "a2af4273",
        "outputId": "aff412f4-fbd3-4251-bc9c-a2a1632060ce"
      },
      "outputs": [
        {
          "output_type": "stream",
          "name": "stderr",
          "text": [
            "/usr/local/lib/python3.10/dist-packages/transformers/optimization.py:429: FutureWarning: This implementation of AdamW is deprecated and will be removed in a future version. Use the PyTorch implementation torch.optim.AdamW instead, or set `no_deprecation_warning=True` to disable this warning\n",
            "  warnings.warn(\n",
            "Epoch 1: 100%|██████████| 189/189 [11:43<00:00,  3.72s/it]\n"
          ]
        },
        {
          "output_type": "stream",
          "name": "stdout",
          "text": [
            "Average training loss for Epoch 1: 0.6080636905614661\n"
          ]
        },
        {
          "output_type": "stream",
          "name": "stderr",
          "text": [
            "Evaluation Epoch 1: 100%|██████████| 21/21 [00:13<00:00,  1.55it/s]\n"
          ]
        },
        {
          "output_type": "stream",
          "name": "stdout",
          "text": [
            "Average evaluation loss for Epoch 1: 0.4196370272409348\n"
          ]
        },
        {
          "output_type": "stream",
          "name": "stderr",
          "text": [
            "Epoch 2: 100%|██████████| 189/189 [11:33<00:00,  3.67s/it]\n"
          ]
        },
        {
          "output_type": "stream",
          "name": "stdout",
          "text": [
            "Average training loss for Epoch 2: 0.5250578620840632\n"
          ]
        },
        {
          "output_type": "stream",
          "name": "stderr",
          "text": [
            "Evaluation Epoch 2: 100%|██████████| 21/21 [00:14<00:00,  1.49it/s]\n"
          ]
        },
        {
          "output_type": "stream",
          "name": "stdout",
          "text": [
            "Average evaluation loss for Epoch 2: 0.6188210774035681\n"
          ]
        },
        {
          "output_type": "stream",
          "name": "stderr",
          "text": [
            "Epoch 3: 100%|██████████| 189/189 [11:38<00:00,  3.70s/it]\n"
          ]
        },
        {
          "output_type": "stream",
          "name": "stdout",
          "text": [
            "Average training loss for Epoch 3: 0.43948854308910473\n"
          ]
        },
        {
          "output_type": "stream",
          "name": "stderr",
          "text": [
            "Evaluation Epoch 3: 100%|██████████| 21/21 [00:13<00:00,  1.53it/s]\n"
          ]
        },
        {
          "output_type": "stream",
          "name": "stdout",
          "text": [
            "Average evaluation loss for Epoch 3: 0.4621313705685593\n"
          ]
        },
        {
          "output_type": "stream",
          "name": "stderr",
          "text": [
            "Test Evaluation: 100%|██████████| 53/53 [00:43<00:00,  1.21it/s]"
          ]
        },
        {
          "output_type": "stream",
          "name": "stdout",
          "text": [
            "\n",
            "Test accuracy: 0.7714285714285715\n"
          ]
        },
        {
          "output_type": "stream",
          "name": "stderr",
          "text": [
            "\n"
          ]
        }
      ],
      "source": [
        "# Define optimizer and learning rate\n",
        "optimizer = AdamW(model.parameters(), lr=5e-5)\n",
        "\n",
        "# Define data loaders\n",
        "train_loader = DataLoader(train_dataset, batch_size=8, shuffle=True)\n",
        "dev_loader = DataLoader(dev_dataset, batch_size=8)\n",
        "test_loader = DataLoader(test_dataset, batch_size=8)\n",
        "\n",
        "# Define training epochs\n",
        "num_epochs = 3\n",
        "\n",
        "# Training loop\n",
        "for epoch in range(num_epochs):\n",
        "    model.train()\n",
        "    total_loss = 0\n",
        "    for batch in tqdm(train_loader, desc=f'Epoch {epoch + 1}'):\n",
        "        input_ids, attention_mask, labels = batch\n",
        "        optimizer.zero_grad()\n",
        "        outputs = model(input_ids=input_ids, attention_mask=attention_mask, labels=labels)\n",
        "        loss = outputs.loss\n",
        "        total_loss += loss.item()\n",
        "        loss.backward()\n",
        "        optimizer.step()\n",
        "    avg_train_loss = total_loss / len(train_loader)\n",
        "    print(f'Average training loss for Epoch {epoch + 1}: {avg_train_loss}')\n",
        "\n",
        "    # Evaluation loop\n",
        "    model.eval()\n",
        "    total_eval_loss = 0\n",
        "    for batch in tqdm(dev_loader, desc=f'Evaluation Epoch {epoch + 1}'):\n",
        "        input_ids, attention_mask, labels = batch\n",
        "        with torch.no_grad():\n",
        "            outputs = model(input_ids=input_ids, attention_mask=attention_mask, labels=labels)\n",
        "            loss = outputs.loss\n",
        "            total_eval_loss += loss.item()\n",
        "    avg_eval_loss = total_eval_loss / len(dev_loader)\n",
        "    print(f'Average evaluation loss for Epoch {epoch + 1}: {avg_eval_loss}')\n",
        "\n",
        "# Evaluate on the test dataset\n",
        "model.eval()\n",
        "predictions = []\n",
        "true_labels = []\n",
        "for batch in tqdm(test_loader, desc='Test Evaluation'):\n",
        "    input_ids, attention_mask, labels = batch\n",
        "    with torch.no_grad():\n",
        "        outputs = model(input_ids=input_ids, attention_mask=attention_mask)\n",
        "        logits = outputs.logits\n",
        "    predictions.extend(torch.argmax(logits, dim=1).tolist())\n",
        "    true_labels.extend(labels.tolist())\n",
        "\n",
        "# Calculate accuracy\n",
        "correct = sum(p == t for p, t in zip(predictions, true_labels))\n",
        "accuracy = correct / len(true_labels)\n",
        "print(f'\\nTest accuracy: {accuracy}')"
      ]
    },
    {
      "cell_type": "code",
      "source": [
        "# Text to classify\n",
        "text = \"I feel like a million bucks!\"\n",
        "\n",
        "# Tokenize the text\n",
        "inputs = tokenizer(text, return_tensors=\"pt\", truncation=True, padding=True)\n",
        "\n",
        "# Inference\n",
        "with torch.no_grad():\n",
        "    outputs = model(**inputs)\n",
        "\n",
        "# Get the predicted probabilities\n",
        "probs = torch.softmax(outputs.logits, dim=1)\n",
        "\n",
        "# Extract the probability for the positive class (hyperbole)\n",
        "hyperbole_probability = probs[:, 1].item()\n",
        "\n",
        "# Thresholding: You can set a threshold to determine if the text is classified as hyperbole or not\n",
        "threshold = 0.5\n",
        "is_hyperbole = hyperbole_probability >= threshold\n",
        "\n",
        "print(f\"Probability of hyperbole: {hyperbole_probability:.2f}\")\n",
        "print(f\"Is hyperbole? {'Yes' if is_hyperbole else 'No'}\")\n"
      ],
      "metadata": {
        "colab": {
          "base_uri": "https://localhost:8080/"
        },
        "id": "ra3YxlDCVai8",
        "outputId": "a1b1907c-7fe7-4de4-ebc6-864b0eec5dc9"
      },
      "id": "ra3YxlDCVai8",
      "execution_count": 12,
      "outputs": [
        {
          "output_type": "stream",
          "name": "stdout",
          "text": [
            "Probability of hyperbole: 0.91\n",
            "Is hyperbole? Yes\n"
          ]
        }
      ]
    }
  ],
  "metadata": {
    "kernelspec": {
      "display_name": "Python 3 (ipykernel)",
      "language": "python",
      "name": "python3"
    },
    "language_info": {
      "codemirror_mode": {
        "name": "ipython",
        "version": 3
      },
      "file_extension": ".py",
      "mimetype": "text/x-python",
      "name": "python",
      "nbconvert_exporter": "python",
      "pygments_lexer": "ipython3",
      "version": "3.11.3"
    },
    "colab": {
      "provenance": []
    }
  },
  "nbformat": 4,
  "nbformat_minor": 5
}